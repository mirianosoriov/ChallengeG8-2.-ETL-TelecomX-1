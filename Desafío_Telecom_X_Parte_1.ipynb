{
  "cells": [
    {
      "cell_type": "markdown",
      "metadata": {
        "id": "view-in-github",
        "colab_type": "text"
      },
      "source": [
        "<a href=\"https://colab.research.google.com/github/mirianosoriov/ChallengeG8-2.-ETL-TelecomX-1/blob/main/Desaf%C3%ADo_Telecom_X_Parte_1.ipynb\" target=\"_parent\"><img src=\"https://colab.research.google.com/assets/colab-badge.svg\" alt=\"Open In Colab\"/></a>"
      ]
    },
    {
      "cell_type": "markdown",
      "id": "0dc01b92",
      "metadata": {
        "id": "0dc01b92"
      },
      "source": [
        "TELECOM X -\n",
        "Evasión de clientes"
      ]
    },
    {
      "cell_type": "markdown",
      "id": "f5f42682",
      "metadata": {
        "id": "f5f42682"
      },
      "source": [
        "Aplicación práctica del conocimiento\n",
        "La limpieza y tratamiento de datos es una habilidad fundamental para cualquier analista de datos. La manipulación de grandes volúmenes de información exige la capacidad de identificar y corregir inconsistencias en los datos, como valores nulos, duplicados y datos fuera de estándar. Garantizar que los datos estén listos para el análisis es un paso esencial para obtener resultados precisos y confiables.\n",
        "\n",
        "El análisis exploratorio de datos (EDA) es una etapa crucial para comprender en profundidad los datos. La capacidad de aplicar estadísticas descriptivas y generar visualizaciones permite identificar patrones, tendencias y relaciones entre las variables. Esto ayuda a formular hipótesis y generar insights que pueden influir en decisiones estratégicas dentro de la empresa.\n",
        "\n",
        "Al participar en este desafío, aplicarás conocimientos esenciales para el análisis de grandes volúmenes de datos en un contexto real, donde tus hallazgos podrán impactar directamente en las estrategias de la empresa para mejorar el principal problema que están enfrentando."
      ]
    },
    {
      "cell_type": "markdown",
      "id": "f85c2299",
      "metadata": {
        "id": "f85c2299"
      },
      "source": [
        "### Diccionario de datos\n",
        "\n",
        "customerID: número de identificación único de cada cliente\n",
        "\n",
        "Churn: si el cliente dejó o no la empresa\n",
        "\n",
        "gender: género (masculino y femenino)\n",
        "\n",
        "SeniorCitizen: información sobre si un cliente tiene o no una edad igual o mayor a 65 años\n",
        "\n",
        "Partner: si el cliente tiene o no una pareja\n",
        "\n",
        "Dependents: si el cliente tiene o no dependientes\n",
        "\n",
        "tenure: meses de contrato del cliente\n",
        "\n",
        "PhoneService: suscripción al servicio telefónico\n",
        "\n",
        "MultipleLines: suscripción a más de una línea telefónica\n",
        "\n",
        "InternetService: suscripción a un proveedor de internet\n",
        "\n",
        "OnlineSecurity: suscripción adicional de seguridad en línea\n",
        "\n",
        "OnlineBackup: suscripción adicional de respaldo en línea\n",
        "\n",
        "DeviceProtection: suscripción adicional de protección del dispositivo\n",
        "\n",
        "TechSupport: suscripción adicional de soporte técnico, menor tiempo de espera\n",
        "\n",
        "StreamingTV: suscripción de televisión por cable\n",
        "\n",
        "StreamingMovies: suscripción de streaming de películas\n",
        "\n",
        "Contract: tipo de contrato\n",
        "\n",
        "PaperlessBilling: si el cliente prefiere recibir la factura en línea\n",
        "\n",
        "PaymentMethod: forma de pago\n",
        "\n",
        "Charges.Monthly: total de todos los servicios del cliente por mes\n",
        "\n",
        "Charges.Total: total gastado por el cliente\n"
      ]
    },
    {
      "cell_type": "markdown",
      "id": "f8eccf65",
      "metadata": {
        "id": "f8eccf65"
      },
      "source": [
        "## 📌 Extracción"
      ]
    },
    {
      "cell_type": "markdown",
      "id": "39db9556",
      "metadata": {
        "id": "39db9556"
      },
      "source": [
        "## 🔧 Transformación"
      ]
    },
    {
      "cell_type": "markdown",
      "id": "b2e1c4cb",
      "metadata": {
        "id": "b2e1c4cb"
      },
      "source": [
        "## 📊 Carga y análisis"
      ]
    },
    {
      "cell_type": "markdown",
      "id": "e9d06771",
      "metadata": {
        "id": "e9d06771"
      },
      "source": [
        "## 📄Informe final"
      ]
    },
    {
      "cell_type": "code",
      "execution_count": null,
      "id": "f13d9b83",
      "metadata": {
        "id": "f13d9b83",
        "outputId": "855af00c-0d0a-4359-debc-fc6425a286a8"
      },
      "outputs": [
        {
          "name": "stdout",
          "output_type": "stream",
          "text": [
            "   customerID Churn                                           customer  \\\n",
            "0  0002-ORFBO    No  {'gender': 'Female', 'SeniorCitizen': 0, 'Part...   \n",
            "1  0003-MKNFE    No  {'gender': 'Male', 'SeniorCitizen': 0, 'Partne...   \n",
            "2  0004-TLHLJ   Yes  {'gender': 'Male', 'SeniorCitizen': 0, 'Partne...   \n",
            "3  0011-IGKFF   Yes  {'gender': 'Male', 'SeniorCitizen': 1, 'Partne...   \n",
            "4  0013-EXCHZ   Yes  {'gender': 'Female', 'SeniorCitizen': 1, 'Part...   \n",
            "\n",
            "                                             phone  \\\n",
            "0   {'PhoneService': 'Yes', 'MultipleLines': 'No'}   \n",
            "1  {'PhoneService': 'Yes', 'MultipleLines': 'Yes'}   \n",
            "2   {'PhoneService': 'Yes', 'MultipleLines': 'No'}   \n",
            "3   {'PhoneService': 'Yes', 'MultipleLines': 'No'}   \n",
            "4   {'PhoneService': 'Yes', 'MultipleLines': 'No'}   \n",
            "\n",
            "                                            internet  \\\n",
            "0  {'InternetService': 'DSL', 'OnlineSecurity': '...   \n",
            "1  {'InternetService': 'DSL', 'OnlineSecurity': '...   \n",
            "2  {'InternetService': 'Fiber optic', 'OnlineSecu...   \n",
            "3  {'InternetService': 'Fiber optic', 'OnlineSecu...   \n",
            "4  {'InternetService': 'Fiber optic', 'OnlineSecu...   \n",
            "\n",
            "                                             account  \n",
            "0  {'Contract': 'One year', 'PaperlessBilling': '...  \n",
            "1  {'Contract': 'Month-to-month', 'PaperlessBilli...  \n",
            "2  {'Contract': 'Month-to-month', 'PaperlessBilli...  \n",
            "3  {'Contract': 'Month-to-month', 'PaperlessBilli...  \n",
            "4  {'Contract': 'Month-to-month', 'PaperlessBilli...  \n"
          ]
        }
      ],
      "source": [
        "import pandas as pd\n",
        "\n",
        "# Cambia la ruta por donde esté tu archivo\n",
        "df = pd.read_json(\"TelecomX_Data.json\")\n",
        "\n",
        "# Ver las primeras filas\n",
        "print(df.head())\n"
      ]
    }
  ],
  "metadata": {
    "kernelspec": {
      "display_name": "Python 3",
      "language": "python",
      "name": "python3"
    },
    "language_info": {
      "codemirror_mode": {
        "name": "ipython",
        "version": 3
      },
      "file_extension": ".py",
      "mimetype": "text/x-python",
      "name": "python",
      "nbconvert_exporter": "python",
      "pygments_lexer": "ipython3",
      "version": "3.11.9"
    },
    "colab": {
      "provenance": [],
      "include_colab_link": true
    }
  },
  "nbformat": 4,
  "nbformat_minor": 5
}